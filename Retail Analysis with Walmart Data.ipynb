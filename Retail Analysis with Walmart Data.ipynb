{
 "cells": [
  {
   "cell_type": "markdown",
   "id": "1247e5ce",
   "metadata": {},
   "source": [
    "# Retail Analysis with Walmart Data"
   ]
  },
  {
   "cell_type": "markdown",
   "id": "a24d56b1",
   "metadata": {},
   "source": [
    "# Analysis Tasks\n",
    "\n",
    "1. Basic Statistics tasks\n",
    "\n",
    "1. 1 Which store has maximum sales\n",
    "\n",
    "1. 2 Which store has maximum standard deviation i.e., the sales vary a lot. Also, find out the coefficient of mean to standard deviation\n",
    "\n",
    "1. 3 Which store/s has good quarterly growth rate in Q3’2012\n",
    "\n",
    "1. 4 Some holidays have a negative impact on sales. Find out holidays which have higher sales than the mean sales in non-holiday season for all stores together\n",
    "\n",
    "1. 5 Provide a monthly and semester view of sales in units and give insights\n",
    "\n",
    "2. Statistical Model\n",
    "\n",
    "For Store 1 – Build  prediction models to forecast demand\n",
    "\n",
    "2. 1 Linear Regression – Utilize variables like date and restructure dates as 1 for 5 Feb 2010 (starting from the earliest date in order). Hypothesize if CPI, unemployment, and fuel price have any impact on sales.\n",
    "\n",
    "2. 2 Change dates into days by creating new variable."
   ]
  },
  {
   "cell_type": "code",
   "execution_count": 117,
   "id": "98a3ed6b",
   "metadata": {},
   "outputs": [],
   "source": [
    "# Import libraries\n",
    "\n",
    "import pandas as pd\n",
    "import seaborn as sns\n",
    "import numpy as np\n",
    "import matplotlib.pyplot as plt\n",
    "from matplotlib import dates\n",
    "from datetime import datetime"
   ]
  },
  {
   "cell_type": "code",
   "execution_count": 6,
   "id": "9e19e67e",
   "metadata": {},
   "outputs": [
    {
     "data": {
      "text/html": [
       "<div>\n",
       "<style scoped>\n",
       "    .dataframe tbody tr th:only-of-type {\n",
       "        vertical-align: middle;\n",
       "    }\n",
       "\n",
       "    .dataframe tbody tr th {\n",
       "        vertical-align: top;\n",
       "    }\n",
       "\n",
       "    .dataframe thead th {\n",
       "        text-align: right;\n",
       "    }\n",
       "</style>\n",
       "<table border=\"1\" class=\"dataframe\">\n",
       "  <thead>\n",
       "    <tr style=\"text-align: right;\">\n",
       "      <th></th>\n",
       "      <th>Store</th>\n",
       "      <th>Date</th>\n",
       "      <th>Weekly_Sales</th>\n",
       "      <th>Holiday_Flag</th>\n",
       "      <th>Temperature</th>\n",
       "      <th>Fuel_Price</th>\n",
       "      <th>CPI</th>\n",
       "      <th>Unemployment</th>\n",
       "    </tr>\n",
       "  </thead>\n",
       "  <tbody>\n",
       "    <tr>\n",
       "      <th>0</th>\n",
       "      <td>1</td>\n",
       "      <td>05-02-2010</td>\n",
       "      <td>1643690.90</td>\n",
       "      <td>0</td>\n",
       "      <td>42.31</td>\n",
       "      <td>2.572</td>\n",
       "      <td>211.096358</td>\n",
       "      <td>8.106</td>\n",
       "    </tr>\n",
       "    <tr>\n",
       "      <th>1</th>\n",
       "      <td>1</td>\n",
       "      <td>12-02-2010</td>\n",
       "      <td>1641957.44</td>\n",
       "      <td>1</td>\n",
       "      <td>38.51</td>\n",
       "      <td>2.548</td>\n",
       "      <td>211.242170</td>\n",
       "      <td>8.106</td>\n",
       "    </tr>\n",
       "    <tr>\n",
       "      <th>2</th>\n",
       "      <td>1</td>\n",
       "      <td>19-02-2010</td>\n",
       "      <td>1611968.17</td>\n",
       "      <td>0</td>\n",
       "      <td>39.93</td>\n",
       "      <td>2.514</td>\n",
       "      <td>211.289143</td>\n",
       "      <td>8.106</td>\n",
       "    </tr>\n",
       "    <tr>\n",
       "      <th>3</th>\n",
       "      <td>1</td>\n",
       "      <td>26-02-2010</td>\n",
       "      <td>1409727.59</td>\n",
       "      <td>0</td>\n",
       "      <td>46.63</td>\n",
       "      <td>2.561</td>\n",
       "      <td>211.319643</td>\n",
       "      <td>8.106</td>\n",
       "    </tr>\n",
       "    <tr>\n",
       "      <th>4</th>\n",
       "      <td>1</td>\n",
       "      <td>05-03-2010</td>\n",
       "      <td>1554806.68</td>\n",
       "      <td>0</td>\n",
       "      <td>46.50</td>\n",
       "      <td>2.625</td>\n",
       "      <td>211.350143</td>\n",
       "      <td>8.106</td>\n",
       "    </tr>\n",
       "  </tbody>\n",
       "</table>\n",
       "</div>"
      ],
      "text/plain": [
       "   Store        Date  Weekly_Sales  Holiday_Flag  Temperature  Fuel_Price  \\\n",
       "0      1  05-02-2010    1643690.90             0        42.31       2.572   \n",
       "1      1  12-02-2010    1641957.44             1        38.51       2.548   \n",
       "2      1  19-02-2010    1611968.17             0        39.93       2.514   \n",
       "3      1  26-02-2010    1409727.59             0        46.63       2.561   \n",
       "4      1  05-03-2010    1554806.68             0        46.50       2.625   \n",
       "\n",
       "          CPI  Unemployment  \n",
       "0  211.096358         8.106  \n",
       "1  211.242170         8.106  \n",
       "2  211.289143         8.106  \n",
       "3  211.319643         8.106  \n",
       "4  211.350143         8.106  "
      ]
     },
     "execution_count": 6,
     "metadata": {},
     "output_type": "execute_result"
    }
   ],
   "source": [
    "# Load dataset\n",
    "data = pd.read_csv('D:\\\\walmart_store_sales\\\\Walmart_Store_sales.csv')\n",
    "data.head()"
   ]
  },
  {
   "cell_type": "code",
   "execution_count": 3,
   "id": "64519578",
   "metadata": {},
   "outputs": [
    {
     "data": {
      "text/plain": [
       "(6435, 8)"
      ]
     },
     "execution_count": 3,
     "metadata": {},
     "output_type": "execute_result"
    }
   ],
   "source": [
    "# check shape of data\n",
    "data.shape"
   ]
  },
  {
   "cell_type": "code",
   "execution_count": 7,
   "id": "9eb7a85a",
   "metadata": {},
   "outputs": [
    {
     "name": "stdout",
     "output_type": "stream",
     "text": [
      "<class 'pandas.core.frame.DataFrame'>\n",
      "RangeIndex: 6435 entries, 0 to 6434\n",
      "Data columns (total 8 columns):\n",
      " #   Column        Non-Null Count  Dtype  \n",
      "---  ------        --------------  -----  \n",
      " 0   Store         6435 non-null   int64  \n",
      " 1   Date          6435 non-null   object \n",
      " 2   Weekly_Sales  6435 non-null   float64\n",
      " 3   Holiday_Flag  6435 non-null   int64  \n",
      " 4   Temperature   6435 non-null   float64\n",
      " 5   Fuel_Price    6435 non-null   float64\n",
      " 6   CPI           6435 non-null   float64\n",
      " 7   Unemployment  6435 non-null   float64\n",
      "dtypes: float64(5), int64(2), object(1)\n",
      "memory usage: 402.3+ KB\n"
     ]
    }
   ],
   "source": [
    "data.info()"
   ]
  },
  {
   "cell_type": "code",
   "execution_count": 8,
   "id": "af155ff0",
   "metadata": {},
   "outputs": [
    {
     "data": {
      "text/plain": [
       "Index(['Store', 'Date', 'Weekly_Sales', 'Holiday_Flag', 'Temperature',\n",
       "       'Fuel_Price', 'CPI', 'Unemployment'],\n",
       "      dtype='object')"
      ]
     },
     "execution_count": 8,
     "metadata": {},
     "output_type": "execute_result"
    }
   ],
   "source": [
    "da"
   ]
  },
  {
   "cell_type": "code",
   "execution_count": 9,
   "id": "3bbf557f",
   "metadata": {},
   "outputs": [
    {
     "data": {
      "text/plain": [
       "array([ 1,  2,  3,  4,  5,  6,  7,  8,  9, 10, 11, 12, 13, 14, 15, 16, 17,\n",
       "       18, 19, 20, 21, 22, 23, 24, 25, 26, 27, 28, 29, 30, 31, 32, 33, 34,\n",
       "       35, 36, 37, 38, 39, 40, 41, 42, 43, 44, 45], dtype=int64)"
      ]
     },
     "execution_count": 9,
     "metadata": {},
     "output_type": "execute_result"
    }
   ],
   "source": [
    "data.Store.unique()"
   ]
  },
  {
   "cell_type": "markdown",
   "id": "94058aa7",
   "metadata": {},
   "source": [
    "1. 1 Which store has maximum sales"
   ]
  },
  {
   "cell_type": "code",
   "execution_count": 10,
   "id": "b4cefd07",
   "metadata": {},
   "outputs": [
    {
     "data": {
      "text/plain": [
       "Store\n",
       "1     2.224028e+08\n",
       "2     2.753824e+08\n",
       "3     5.758674e+07\n",
       "4     2.995440e+08\n",
       "5     4.547569e+07\n",
       "6     2.237561e+08\n",
       "7     8.159828e+07\n",
       "8     1.299512e+08\n",
       "9     7.778922e+07\n",
       "10    2.716177e+08\n",
       "11    1.939628e+08\n",
       "12    1.442872e+08\n",
       "13    2.865177e+08\n",
       "14    2.889999e+08\n",
       "15    8.913368e+07\n",
       "16    7.425243e+07\n",
       "17    1.277821e+08\n",
       "18    1.551147e+08\n",
       "19    2.066349e+08\n",
       "20    3.013978e+08\n",
       "21    1.081179e+08\n",
       "22    1.470756e+08\n",
       "23    1.987506e+08\n",
       "24    1.940160e+08\n",
       "25    1.010612e+08\n",
       "26    1.434164e+08\n",
       "27    2.538559e+08\n",
       "28    1.892637e+08\n",
       "29    7.714155e+07\n",
       "30    6.271689e+07\n",
       "31    1.996139e+08\n",
       "32    1.668192e+08\n",
       "33    3.716022e+07\n",
       "34    1.382498e+08\n",
       "35    1.315207e+08\n",
       "36    5.341221e+07\n",
       "37    7.420274e+07\n",
       "38    5.515963e+07\n",
       "39    2.074455e+08\n",
       "40    1.378703e+08\n",
       "41    1.813419e+08\n",
       "42    7.956575e+07\n",
       "43    9.056544e+07\n",
       "44    4.329309e+07\n",
       "45    1.123953e+08\n",
       "Name: Weekly_Sales, dtype: float64"
      ]
     },
     "execution_count": 10,
     "metadata": {},
     "output_type": "execute_result"
    }
   ],
   "source": [
    "sales_list=[]\n",
    "sales_list=data.groupby(['Store'])['Weekly_Sales'].sum()\n",
    "max_sales=max(data.groupby(['Store'])['Weekly_Sales'].sum())\n",
    "sales_list"
   ]
  },
  {
   "cell_type": "code",
   "execution_count": 11,
   "id": "b5e17d22",
   "metadata": {},
   "outputs": [
    {
     "name": "stdout",
     "output_type": "stream",
     "text": [
      "Store which has maximum sales of 301397792.46 is 20\n"
     ]
    }
   ],
   "source": [
    "for i in range(1,46):\n",
    "    if max_sales==sales_list[i]:\n",
    "        print(\"Store which has maximum sales of {} is {}\".format(max_sales,i))"
   ]
  },
  {
   "cell_type": "raw",
   "id": "c7091c05",
   "metadata": {},
   "source": [
    "# Conclusion\n",
    "Store 20 has maximum sales of 301397792.46"
   ]
  },
  {
   "cell_type": "markdown",
   "id": "be8e19d4",
   "metadata": {},
   "source": [
    "1. 2 Which store has maximum standard deviation "
   ]
  },
  {
   "cell_type": "code",
   "execution_count": 14,
   "id": "e16e2517",
   "metadata": {},
   "outputs": [
    {
     "name": "stdout",
     "output_type": "stream",
     "text": [
      "Store\n",
      "1     155980.767761\n",
      "2     237683.694682\n",
      "3      46319.631557\n",
      "4     266201.442297\n",
      "5      37737.965745\n",
      "6     212525.855862\n",
      "7     112585.469220\n",
      "8     106280.829881\n",
      "9      69028.666585\n",
      "10    302262.062504\n",
      "11    165833.887863\n",
      "12    139166.871880\n",
      "13    265506.995776\n",
      "14    317569.949476\n",
      "15    120538.652043\n",
      "16     85769.680133\n",
      "17    112162.936087\n",
      "18    176641.510839\n",
      "19    191722.638730\n",
      "20    275900.562742\n",
      "21    128752.812853\n",
      "22    161251.350631\n",
      "23    249788.038068\n",
      "24    167745.677567\n",
      "25    112976.788600\n",
      "26    110431.288141\n",
      "27    239930.135688\n",
      "28    181758.967539\n",
      "29     99120.136596\n",
      "30     22809.665590\n",
      "31    125855.942933\n",
      "32    138017.252087\n",
      "33     24132.927322\n",
      "34    104630.164676\n",
      "35    211243.457791\n",
      "36     60725.173579\n",
      "37     21837.461190\n",
      "38     42768.169450\n",
      "39    217466.454833\n",
      "40    119002.112858\n",
      "41    187907.162766\n",
      "42     50262.925530\n",
      "43     40598.413260\n",
      "44     24762.832015\n",
      "45    130168.526635\n",
      "Name: Weekly_Sales, dtype: float64\n"
     ]
    }
   ],
   "source": [
    "std_dev=[]\n",
    "std_dev=data.groupby(['Store'])['Weekly_Sales'].std()\n",
    "max_std=max(data.groupby(['Store'])['Weekly_Sales'].std())\n",
    "print(std_dev)"
   ]
  },
  {
   "cell_type": "code",
   "execution_count": null,
   "id": "0cf9dde6",
   "metadata": {},
   "outputs": [],
   "source": []
  },
  {
   "cell_type": "code",
   "execution_count": 15,
   "id": "18d7c8d3",
   "metadata": {},
   "outputs": [
    {
     "name": "stdout",
     "output_type": "stream",
     "text": [
      "Store which has maximum standard deviation of 317569.9494755081 is 14\n"
     ]
    }
   ],
   "source": [
    "for i in range(1,46):\n",
    "    if max_std==std_dev[i]:\n",
    "        print('Store which has maximum standard deviation of {} is {}'.format(max_std,i))"
   ]
  },
  {
   "cell_type": "markdown",
   "id": "bfceb952",
   "metadata": {},
   "source": [
    "Store 14 has maximum standard deviation of 317569.9494755081"
   ]
  },
  {
   "cell_type": "markdown",
   "id": "1cd43e92",
   "metadata": {},
   "source": [
    "1. 3 Which store/s has good quarterly growth rate in Q3’2012"
   ]
  },
  {
   "cell_type": "code",
   "execution_count": 32,
   "id": "917f7518",
   "metadata": {},
   "outputs": [],
   "source": [
    "data_safe=data"
   ]
  },
  {
   "cell_type": "code",
   "execution_count": 33,
   "id": "58a94fa3",
   "metadata": {},
   "outputs": [],
   "source": [
    "data[\"Date\"]=pd.to_datetime(data[\"Date\"])"
   ]
  },
  {
   "cell_type": "code",
   "execution_count": 35,
   "id": "0e9ba12a",
   "metadata": {},
   "outputs": [],
   "source": [
    "#Third Quartile Period\n",
    "\n",
    "date_from=pd.Timestamp(date(2012,7,1))\n",
    "date_to = pd.Timestamp(date(2012,9,1))"
   ]
  },
  {
   "cell_type": "code",
   "execution_count": 36,
   "id": "7e8df2f0",
   "metadata": {},
   "outputs": [],
   "source": [
    "data_safe = data_safe[\n",
    "    (data_safe['Date'] > date_from ) &\n",
    "    (data_safe['Date'] < date_to)]"
   ]
  },
  {
   "cell_type": "code",
   "execution_count": 37,
   "id": "2a3f3293",
   "metadata": {},
   "outputs": [
    {
     "data": {
      "text/html": [
       "<div>\n",
       "<style scoped>\n",
       "    .dataframe tbody tr th:only-of-type {\n",
       "        vertical-align: middle;\n",
       "    }\n",
       "\n",
       "    .dataframe tbody tr th {\n",
       "        vertical-align: top;\n",
       "    }\n",
       "\n",
       "    .dataframe thead th {\n",
       "        text-align: right;\n",
       "    }\n",
       "</style>\n",
       "<table border=\"1\" class=\"dataframe\">\n",
       "  <thead>\n",
       "    <tr style=\"text-align: right;\">\n",
       "      <th></th>\n",
       "      <th>Store</th>\n",
       "      <th>Date</th>\n",
       "      <th>Weekly_Sales</th>\n",
       "      <th>Holiday_Flag</th>\n",
       "      <th>Temperature</th>\n",
       "      <th>Fuel_Price</th>\n",
       "      <th>CPI</th>\n",
       "      <th>Unemployment</th>\n",
       "      <th>Day</th>\n",
       "      <th>Month</th>\n",
       "      <th>Year</th>\n",
       "    </tr>\n",
       "  </thead>\n",
       "  <tbody>\n",
       "    <tr>\n",
       "      <th>122</th>\n",
       "      <td>1</td>\n",
       "      <td>2012-08-06</td>\n",
       "      <td>1697230.96</td>\n",
       "      <td>0</td>\n",
       "      <td>78.30</td>\n",
       "      <td>3.452</td>\n",
       "      <td>221.749484</td>\n",
       "      <td>7.143</td>\n",
       "      <td>6</td>\n",
       "      <td>8</td>\n",
       "      <td>2012</td>\n",
       "    </tr>\n",
       "    <tr>\n",
       "      <th>127</th>\n",
       "      <td>1</td>\n",
       "      <td>2012-07-13</td>\n",
       "      <td>1527014.04</td>\n",
       "      <td>0</td>\n",
       "      <td>77.12</td>\n",
       "      <td>3.256</td>\n",
       "      <td>221.924158</td>\n",
       "      <td>6.908</td>\n",
       "      <td>13</td>\n",
       "      <td>7</td>\n",
       "      <td>2012</td>\n",
       "    </tr>\n",
       "    <tr>\n",
       "      <th>128</th>\n",
       "      <td>1</td>\n",
       "      <td>2012-07-20</td>\n",
       "      <td>1497954.76</td>\n",
       "      <td>0</td>\n",
       "      <td>80.42</td>\n",
       "      <td>3.311</td>\n",
       "      <td>221.932727</td>\n",
       "      <td>6.908</td>\n",
       "      <td>20</td>\n",
       "      <td>7</td>\n",
       "      <td>2012</td>\n",
       "    </tr>\n",
       "    <tr>\n",
       "      <th>129</th>\n",
       "      <td>1</td>\n",
       "      <td>2012-07-27</td>\n",
       "      <td>1439123.71</td>\n",
       "      <td>0</td>\n",
       "      <td>82.66</td>\n",
       "      <td>3.407</td>\n",
       "      <td>221.941295</td>\n",
       "      <td>6.908</td>\n",
       "      <td>27</td>\n",
       "      <td>7</td>\n",
       "      <td>2012</td>\n",
       "    </tr>\n",
       "    <tr>\n",
       "      <th>132</th>\n",
       "      <td>1</td>\n",
       "      <td>2012-08-17</td>\n",
       "      <td>1597868.05</td>\n",
       "      <td>0</td>\n",
       "      <td>84.85</td>\n",
       "      <td>3.571</td>\n",
       "      <td>222.038411</td>\n",
       "      <td>6.908</td>\n",
       "      <td>17</td>\n",
       "      <td>8</td>\n",
       "      <td>2012</td>\n",
       "    </tr>\n",
       "    <tr>\n",
       "      <th>...</th>\n",
       "      <td>...</td>\n",
       "      <td>...</td>\n",
       "      <td>...</td>\n",
       "      <td>...</td>\n",
       "      <td>...</td>\n",
       "      <td>...</td>\n",
       "      <td>...</td>\n",
       "      <td>...</td>\n",
       "      <td>...</td>\n",
       "      <td>...</td>\n",
       "      <td>...</td>\n",
       "    </tr>\n",
       "    <tr>\n",
       "      <th>6421</th>\n",
       "      <td>45</td>\n",
       "      <td>2012-07-27</td>\n",
       "      <td>711671.58</td>\n",
       "      <td>0</td>\n",
       "      <td>77.20</td>\n",
       "      <td>3.647</td>\n",
       "      <td>191.165566</td>\n",
       "      <td>8.684</td>\n",
       "      <td>27</td>\n",
       "      <td>7</td>\n",
       "      <td>2012</td>\n",
       "    </tr>\n",
       "    <tr>\n",
       "      <th>6424</th>\n",
       "      <td>45</td>\n",
       "      <td>2012-08-17</td>\n",
       "      <td>722496.93</td>\n",
       "      <td>0</td>\n",
       "      <td>75.71</td>\n",
       "      <td>3.807</td>\n",
       "      <td>191.228492</td>\n",
       "      <td>8.684</td>\n",
       "      <td>17</td>\n",
       "      <td>8</td>\n",
       "      <td>2012</td>\n",
       "    </tr>\n",
       "    <tr>\n",
       "      <th>6425</th>\n",
       "      <td>45</td>\n",
       "      <td>2012-08-24</td>\n",
       "      <td>718232.26</td>\n",
       "      <td>0</td>\n",
       "      <td>72.62</td>\n",
       "      <td>3.834</td>\n",
       "      <td>191.344887</td>\n",
       "      <td>8.684</td>\n",
       "      <td>24</td>\n",
       "      <td>8</td>\n",
       "      <td>2012</td>\n",
       "    </tr>\n",
       "    <tr>\n",
       "      <th>6426</th>\n",
       "      <td>45</td>\n",
       "      <td>2012-08-31</td>\n",
       "      <td>734297.87</td>\n",
       "      <td>0</td>\n",
       "      <td>75.09</td>\n",
       "      <td>3.867</td>\n",
       "      <td>191.461281</td>\n",
       "      <td>8.684</td>\n",
       "      <td>31</td>\n",
       "      <td>8</td>\n",
       "      <td>2012</td>\n",
       "    </tr>\n",
       "    <tr>\n",
       "      <th>6427</th>\n",
       "      <td>45</td>\n",
       "      <td>2012-07-09</td>\n",
       "      <td>766512.66</td>\n",
       "      <td>1</td>\n",
       "      <td>75.70</td>\n",
       "      <td>3.911</td>\n",
       "      <td>191.577676</td>\n",
       "      <td>8.684</td>\n",
       "      <td>9</td>\n",
       "      <td>7</td>\n",
       "      <td>2012</td>\n",
       "    </tr>\n",
       "  </tbody>\n",
       "</table>\n",
       "<p>360 rows × 11 columns</p>\n",
       "</div>"
      ],
      "text/plain": [
       "      Store       Date  Weekly_Sales  Holiday_Flag  Temperature  Fuel_Price  \\\n",
       "122       1 2012-08-06    1697230.96             0        78.30       3.452   \n",
       "127       1 2012-07-13    1527014.04             0        77.12       3.256   \n",
       "128       1 2012-07-20    1497954.76             0        80.42       3.311   \n",
       "129       1 2012-07-27    1439123.71             0        82.66       3.407   \n",
       "132       1 2012-08-17    1597868.05             0        84.85       3.571   \n",
       "...     ...        ...           ...           ...          ...         ...   \n",
       "6421     45 2012-07-27     711671.58             0        77.20       3.647   \n",
       "6424     45 2012-08-17     722496.93             0        75.71       3.807   \n",
       "6425     45 2012-08-24     718232.26             0        72.62       3.834   \n",
       "6426     45 2012-08-31     734297.87             0        75.09       3.867   \n",
       "6427     45 2012-07-09     766512.66             1        75.70       3.911   \n",
       "\n",
       "             CPI  Unemployment  Day  Month  Year  \n",
       "122   221.749484         7.143    6      8  2012  \n",
       "127   221.924158         6.908   13      7  2012  \n",
       "128   221.932727         6.908   20      7  2012  \n",
       "129   221.941295         6.908   27      7  2012  \n",
       "132   222.038411         6.908   17      8  2012  \n",
       "...          ...           ...  ...    ...   ...  \n",
       "6421  191.165566         8.684   27      7  2012  \n",
       "6424  191.228492         8.684   17      8  2012  \n",
       "6425  191.344887         8.684   24      8  2012  \n",
       "6426  191.461281         8.684   31      8  2012  \n",
       "6427  191.577676         8.684    9      7  2012  \n",
       "\n",
       "[360 rows x 11 columns]"
      ]
     },
     "execution_count": 37,
     "metadata": {},
     "output_type": "execute_result"
    }
   ],
   "source": [
    "data_safe"
   ]
  },
  {
   "cell_type": "code",
   "execution_count": 40,
   "id": "44b45b89",
   "metadata": {},
   "outputs": [
    {
     "name": "stdout",
     "output_type": "stream",
     "text": [
      "Store\n",
      "1     12497164.63\n",
      "2     15068546.49\n",
      "3      3309539.61\n",
      "4     17184755.18\n",
      "5      2616077.17\n",
      "6     12602014.74\n",
      "7      5145719.21\n",
      "8      7287654.54\n",
      "9      4379738.32\n",
      "10    14244984.38\n",
      "11    10859741.55\n",
      "12     7975256.52\n",
      "13    16547587.90\n",
      "14    13476932.21\n",
      "15     4749680.33\n",
      "16     4439284.00\n",
      "17     7691713.66\n",
      "18     8487908.30\n",
      "19    11238000.13\n",
      "20    16441784.91\n",
      "21     5705679.85\n",
      "22     8011276.00\n",
      "23    11874225.21\n",
      "24    11036817.80\n",
      "25     5660441.24\n",
      "26     8477063.95\n",
      "27    13966116.82\n",
      "28     9985386.04\n",
      "29     4169231.08\n",
      "30     3428281.56\n",
      "31    11035442.71\n",
      "32     9545018.65\n",
      "33     2116785.52\n",
      "34     7672976.76\n",
      "35     7047799.89\n",
      "36     2393072.59\n",
      "37     4150660.97\n",
      "38     3437491.66\n",
      "39    12930297.16\n",
      "40     7972353.84\n",
      "41    11238592.05\n",
      "42     4551141.89\n",
      "43     4935069.08\n",
      "44     2677995.56\n",
      "45     5935775.03\n",
      "Name: Weekly_Sales, dtype: float64\n",
      "17184755.18\n"
     ]
    }
   ],
   "source": [
    "Q3_growth=[]\n",
    "Q3_growth=data_safe.groupby(['Store'])['Weekly_Sales'].sum()\n",
    "max_Q3_growth=max(data_safe.groupby(['Store'])['Weekly_Sales'].sum())\n",
    "print(Q3_growth)\n",
    "print(max_Q3_growth)"
   ]
  },
  {
   "cell_type": "code",
   "execution_count": 56,
   "id": "c7e88b5e",
   "metadata": {},
   "outputs": [
    {
     "data": {
      "text/plain": [
       "17184755.18"
      ]
     },
     "execution_count": 56,
     "metadata": {},
     "output_type": "execute_result"
    }
   ],
   "source": [
    "max_Q3_growth"
   ]
  },
  {
   "cell_type": "raw",
   "id": "c2e08284",
   "metadata": {},
   "source": [
    "# Conclusion\n",
    "\n",
    "Store 14 has maximum Q3 growth of 17184755.18"
   ]
  },
  {
   "cell_type": "markdown",
   "id": "6c028b20",
   "metadata": {},
   "source": [
    "1. 4 Some holidays have a negative impact on sales."
   ]
  },
  {
   "cell_type": "code",
   "execution_count": 58,
   "id": "49601e06",
   "metadata": {},
   "outputs": [
    {
     "data": {
      "text/html": [
       "<div>\n",
       "<style scoped>\n",
       "    .dataframe tbody tr th:only-of-type {\n",
       "        vertical-align: middle;\n",
       "    }\n",
       "\n",
       "    .dataframe tbody tr th {\n",
       "        vertical-align: top;\n",
       "    }\n",
       "\n",
       "    .dataframe thead th {\n",
       "        text-align: right;\n",
       "    }\n",
       "</style>\n",
       "<table border=\"1\" class=\"dataframe\">\n",
       "  <thead>\n",
       "    <tr style=\"text-align: right;\">\n",
       "      <th></th>\n",
       "      <th>Store</th>\n",
       "      <th>Date</th>\n",
       "      <th>Weekly_Sales</th>\n",
       "      <th>Holiday_Flag</th>\n",
       "      <th>Temperature</th>\n",
       "      <th>Fuel_Price</th>\n",
       "      <th>CPI</th>\n",
       "      <th>Unemployment</th>\n",
       "      <th>Day</th>\n",
       "      <th>Month</th>\n",
       "      <th>Year</th>\n",
       "    </tr>\n",
       "  </thead>\n",
       "  <tbody>\n",
       "    <tr>\n",
       "      <th>47</th>\n",
       "      <td>1</td>\n",
       "      <td>2010-12-31</td>\n",
       "      <td>1367320.01</td>\n",
       "      <td>1</td>\n",
       "      <td>48.43</td>\n",
       "      <td>2.943</td>\n",
       "      <td>211.404932</td>\n",
       "      <td>7.838</td>\n",
       "      <td>31</td>\n",
       "      <td>12</td>\n",
       "      <td>2010</td>\n",
       "    </tr>\n",
       "    <tr>\n",
       "      <th>190</th>\n",
       "      <td>2</td>\n",
       "      <td>2010-12-31</td>\n",
       "      <td>1750434.55</td>\n",
       "      <td>1</td>\n",
       "      <td>47.30</td>\n",
       "      <td>2.943</td>\n",
       "      <td>211.064774</td>\n",
       "      <td>8.163</td>\n",
       "      <td>31</td>\n",
       "      <td>12</td>\n",
       "      <td>2010</td>\n",
       "    </tr>\n",
       "    <tr>\n",
       "      <th>333</th>\n",
       "      <td>3</td>\n",
       "      <td>2010-12-31</td>\n",
       "      <td>382677.76</td>\n",
       "      <td>1</td>\n",
       "      <td>53.20</td>\n",
       "      <td>2.943</td>\n",
       "      <td>214.698647</td>\n",
       "      <td>7.564</td>\n",
       "      <td>31</td>\n",
       "      <td>12</td>\n",
       "      <td>2010</td>\n",
       "    </tr>\n",
       "    <tr>\n",
       "      <th>476</th>\n",
       "      <td>4</td>\n",
       "      <td>2010-12-31</td>\n",
       "      <td>1794868.74</td>\n",
       "      <td>1</td>\n",
       "      <td>38.09</td>\n",
       "      <td>2.955</td>\n",
       "      <td>127.087677</td>\n",
       "      <td>7.127</td>\n",
       "      <td>31</td>\n",
       "      <td>12</td>\n",
       "      <td>2010</td>\n",
       "    </tr>\n",
       "    <tr>\n",
       "      <th>619</th>\n",
       "      <td>5</td>\n",
       "      <td>2010-12-31</td>\n",
       "      <td>298180.18</td>\n",
       "      <td>1</td>\n",
       "      <td>49.79</td>\n",
       "      <td>2.943</td>\n",
       "      <td>211.956714</td>\n",
       "      <td>6.768</td>\n",
       "      <td>31</td>\n",
       "      <td>12</td>\n",
       "      <td>2010</td>\n",
       "    </tr>\n",
       "  </tbody>\n",
       "</table>\n",
       "</div>"
      ],
      "text/plain": [
       "     Store       Date  Weekly_Sales  Holiday_Flag  Temperature  Fuel_Price  \\\n",
       "47       1 2010-12-31    1367320.01             1        48.43       2.943   \n",
       "190      2 2010-12-31    1750434.55             1        47.30       2.943   \n",
       "333      3 2010-12-31     382677.76             1        53.20       2.943   \n",
       "476      4 2010-12-31    1794868.74             1        38.09       2.955   \n",
       "619      5 2010-12-31     298180.18             1        49.79       2.943   \n",
       "\n",
       "            CPI  Unemployment  Day  Month  Year  \n",
       "47   211.404932         7.838   31     12  2010  \n",
       "190  211.064774         8.163   31     12  2010  \n",
       "333  214.698647         7.564   31     12  2010  \n",
       "476  127.087677         7.127   31     12  2010  \n",
       "619  211.956714         6.768   31     12  2010  "
      ]
     },
     "execution_count": 58,
     "metadata": {},
     "output_type": "execute_result"
    }
   ],
   "source": [
    "Christmas_sales=data.loc[(data[\"Date\"]==\"2010-12-31\") | (data[\"Date\"]==\"2011-12-31\") | (data[\"Date\"]==\"2012-12-28\") | (data[\"Date\"]==\"2013-12-\")]\n",
    "Christmas_sales.head()"
   ]
  },
  {
   "cell_type": "code",
   "execution_count": 57,
   "id": "8fa189b8",
   "metadata": {},
   "outputs": [
    {
     "data": {
      "text/plain": [
       "40432519.0"
      ]
     },
     "execution_count": 57,
     "metadata": {},
     "output_type": "execute_result"
    }
   ],
   "source": [
    "Christmas_sales[\"Weekly_Sales\"].sum()"
   ]
  },
  {
   "cell_type": "code",
   "execution_count": 61,
   "id": "95b34566",
   "metadata": {},
   "outputs": [
    {
     "data": {
      "text/html": [
       "<div>\n",
       "<style scoped>\n",
       "    .dataframe tbody tr th:only-of-type {\n",
       "        vertical-align: middle;\n",
       "    }\n",
       "\n",
       "    .dataframe tbody tr th {\n",
       "        vertical-align: top;\n",
       "    }\n",
       "\n",
       "    .dataframe thead th {\n",
       "        text-align: right;\n",
       "    }\n",
       "</style>\n",
       "<table border=\"1\" class=\"dataframe\">\n",
       "  <thead>\n",
       "    <tr style=\"text-align: right;\">\n",
       "      <th></th>\n",
       "      <th>Store</th>\n",
       "      <th>Date</th>\n",
       "      <th>Weekly_Sales</th>\n",
       "      <th>Holiday_Flag</th>\n",
       "      <th>Temperature</th>\n",
       "      <th>Fuel_Price</th>\n",
       "      <th>CPI</th>\n",
       "      <th>Unemployment</th>\n",
       "      <th>Day</th>\n",
       "      <th>Month</th>\n",
       "      <th>Year</th>\n",
       "    </tr>\n",
       "  </thead>\n",
       "  <tbody>\n",
       "    <tr>\n",
       "      <th>83</th>\n",
       "      <td>1</td>\n",
       "      <td>2011-09-09</td>\n",
       "      <td>1540471.24</td>\n",
       "      <td>1</td>\n",
       "      <td>76.00</td>\n",
       "      <td>3.546</td>\n",
       "      <td>215.861056</td>\n",
       "      <td>7.962</td>\n",
       "      <td>9</td>\n",
       "      <td>9</td>\n",
       "      <td>2011</td>\n",
       "    </tr>\n",
       "    <tr>\n",
       "      <th>226</th>\n",
       "      <td>2</td>\n",
       "      <td>2011-09-09</td>\n",
       "      <td>1748000.65</td>\n",
       "      <td>1</td>\n",
       "      <td>77.97</td>\n",
       "      <td>3.546</td>\n",
       "      <td>215.514829</td>\n",
       "      <td>7.852</td>\n",
       "      <td>9</td>\n",
       "      <td>9</td>\n",
       "      <td>2011</td>\n",
       "    </tr>\n",
       "    <tr>\n",
       "      <th>369</th>\n",
       "      <td>3</td>\n",
       "      <td>2011-09-09</td>\n",
       "      <td>377347.49</td>\n",
       "      <td>1</td>\n",
       "      <td>81.72</td>\n",
       "      <td>3.546</td>\n",
       "      <td>219.213530</td>\n",
       "      <td>7.567</td>\n",
       "      <td>9</td>\n",
       "      <td>9</td>\n",
       "      <td>2011</td>\n",
       "    </tr>\n",
       "    <tr>\n",
       "      <th>512</th>\n",
       "      <td>4</td>\n",
       "      <td>2011-09-09</td>\n",
       "      <td>2093139.01</td>\n",
       "      <td>1</td>\n",
       "      <td>73.34</td>\n",
       "      <td>3.554</td>\n",
       "      <td>129.368613</td>\n",
       "      <td>5.644</td>\n",
       "      <td>9</td>\n",
       "      <td>9</td>\n",
       "      <td>2011</td>\n",
       "    </tr>\n",
       "    <tr>\n",
       "      <th>655</th>\n",
       "      <td>5</td>\n",
       "      <td>2011-09-09</td>\n",
       "      <td>321110.22</td>\n",
       "      <td>1</td>\n",
       "      <td>79.04</td>\n",
       "      <td>3.546</td>\n",
       "      <td>216.422682</td>\n",
       "      <td>6.529</td>\n",
       "      <td>9</td>\n",
       "      <td>9</td>\n",
       "      <td>2011</td>\n",
       "    </tr>\n",
       "  </tbody>\n",
       "</table>\n",
       "</div>"
      ],
      "text/plain": [
       "     Store       Date  Weekly_Sales  Holiday_Flag  Temperature  Fuel_Price  \\\n",
       "83       1 2011-09-09    1540471.24             1        76.00       3.546   \n",
       "226      2 2011-09-09    1748000.65             1        77.97       3.546   \n",
       "369      3 2011-09-09     377347.49             1        81.72       3.546   \n",
       "512      4 2011-09-09    2093139.01             1        73.34       3.554   \n",
       "655      5 2011-09-09     321110.22             1        79.04       3.546   \n",
       "\n",
       "            CPI  Unemployment  Day  Month  Year  \n",
       "83   215.861056         7.962    9      9  2011  \n",
       "226  215.514829         7.852    9      9  2011  \n",
       "369  219.213530         7.567    9      9  2011  \n",
       "512  129.368613         5.644    9      9  2011  \n",
       "655  216.422682         6.529    9      9  2011  "
      ]
     },
     "execution_count": 61,
     "metadata": {},
     "output_type": "execute_result"
    }
   ],
   "source": [
    "Labour_Day=data.loc[(data[\"Date\"]==\"2010-09-10\") | (data[\"Date\"]==\"2011-09-09\") | (data[\"Date\"]==\"2012-09-07\") | (data[\"Date\"]==\"2013-09-06\")]\n",
    "Labour_Day.head()"
   ]
  },
  {
   "cell_type": "code",
   "execution_count": 63,
   "id": "df2ea74e",
   "metadata": {},
   "outputs": [
    {
     "data": {
      "text/plain": [
       "46763227.529999994"
      ]
     },
     "execution_count": 63,
     "metadata": {},
     "output_type": "execute_result"
    }
   ],
   "source": [
    "Labour_Day[\"Weekly_Sales\"].sum()"
   ]
  },
  {
   "cell_type": "code",
   "execution_count": 65,
   "id": "98078242",
   "metadata": {},
   "outputs": [
    {
     "data": {
      "text/html": [
       "<div>\n",
       "<style scoped>\n",
       "    .dataframe tbody tr th:only-of-type {\n",
       "        vertical-align: middle;\n",
       "    }\n",
       "\n",
       "    .dataframe tbody tr th {\n",
       "        vertical-align: top;\n",
       "    }\n",
       "\n",
       "    .dataframe thead th {\n",
       "        text-align: right;\n",
       "    }\n",
       "</style>\n",
       "<table border=\"1\" class=\"dataframe\">\n",
       "  <thead>\n",
       "    <tr style=\"text-align: right;\">\n",
       "      <th></th>\n",
       "      <th>Store</th>\n",
       "      <th>Date</th>\n",
       "      <th>Weekly_Sales</th>\n",
       "      <th>Holiday_Flag</th>\n",
       "      <th>Temperature</th>\n",
       "      <th>Fuel_Price</th>\n",
       "      <th>CPI</th>\n",
       "      <th>Unemployment</th>\n",
       "      <th>Day</th>\n",
       "      <th>Month</th>\n",
       "      <th>Year</th>\n",
       "    </tr>\n",
       "  </thead>\n",
       "  <tbody>\n",
       "    <tr>\n",
       "      <th>42</th>\n",
       "      <td>1</td>\n",
       "      <td>2010-11-26</td>\n",
       "      <td>1955624.11</td>\n",
       "      <td>1</td>\n",
       "      <td>64.52</td>\n",
       "      <td>2.735</td>\n",
       "      <td>211.748433</td>\n",
       "      <td>7.838</td>\n",
       "      <td>26</td>\n",
       "      <td>11</td>\n",
       "      <td>2010</td>\n",
       "    </tr>\n",
       "    <tr>\n",
       "      <th>94</th>\n",
       "      <td>1</td>\n",
       "      <td>2011-11-25</td>\n",
       "      <td>2033320.66</td>\n",
       "      <td>1</td>\n",
       "      <td>60.14</td>\n",
       "      <td>3.236</td>\n",
       "      <td>218.467621</td>\n",
       "      <td>7.866</td>\n",
       "      <td>25</td>\n",
       "      <td>11</td>\n",
       "      <td>2011</td>\n",
       "    </tr>\n",
       "    <tr>\n",
       "      <th>185</th>\n",
       "      <td>2</td>\n",
       "      <td>2010-11-26</td>\n",
       "      <td>2658725.29</td>\n",
       "      <td>1</td>\n",
       "      <td>62.98</td>\n",
       "      <td>2.735</td>\n",
       "      <td>211.406287</td>\n",
       "      <td>8.163</td>\n",
       "      <td>26</td>\n",
       "      <td>11</td>\n",
       "      <td>2010</td>\n",
       "    </tr>\n",
       "    <tr>\n",
       "      <th>237</th>\n",
       "      <td>2</td>\n",
       "      <td>2011-11-25</td>\n",
       "      <td>2614202.30</td>\n",
       "      <td>1</td>\n",
       "      <td>56.36</td>\n",
       "      <td>3.236</td>\n",
       "      <td>218.113027</td>\n",
       "      <td>7.441</td>\n",
       "      <td>25</td>\n",
       "      <td>11</td>\n",
       "      <td>2011</td>\n",
       "    </tr>\n",
       "    <tr>\n",
       "      <th>328</th>\n",
       "      <td>3</td>\n",
       "      <td>2010-11-26</td>\n",
       "      <td>565567.84</td>\n",
       "      <td>1</td>\n",
       "      <td>68.71</td>\n",
       "      <td>2.735</td>\n",
       "      <td>215.061403</td>\n",
       "      <td>7.564</td>\n",
       "      <td>26</td>\n",
       "      <td>11</td>\n",
       "      <td>2010</td>\n",
       "    </tr>\n",
       "  </tbody>\n",
       "</table>\n",
       "</div>"
      ],
      "text/plain": [
       "     Store       Date  Weekly_Sales  Holiday_Flag  Temperature  Fuel_Price  \\\n",
       "42       1 2010-11-26    1955624.11             1        64.52       2.735   \n",
       "94       1 2011-11-25    2033320.66             1        60.14       3.236   \n",
       "185      2 2010-11-26    2658725.29             1        62.98       2.735   \n",
       "237      2 2011-11-25    2614202.30             1        56.36       3.236   \n",
       "328      3 2010-11-26     565567.84             1        68.71       2.735   \n",
       "\n",
       "            CPI  Unemployment  Day  Month  Year  \n",
       "42   211.748433         7.838   26     11  2010  \n",
       "94   218.467621         7.866   25     11  2011  \n",
       "185  211.406287         8.163   26     11  2010  \n",
       "237  218.113027         7.441   25     11  2011  \n",
       "328  215.061403         7.564   26     11  2010  "
      ]
     },
     "execution_count": 65,
     "metadata": {},
     "output_type": "execute_result"
    }
   ],
   "source": [
    "Thanksgivings=data.loc[(data[\"Date\"]==\"2010-11-26\") | (data[\"Date\"]==\"2011-11-25\") | (data[\"Date\"]==\"2012-11-23\") | (data[\"Date\"]==\"2013-11-29\")]\n",
    "Thanksgivings.head()"
   ]
  },
  {
   "cell_type": "code",
   "execution_count": 66,
   "id": "ce639bc6",
   "metadata": {},
   "outputs": [
    {
     "data": {
      "text/plain": [
       "132414608.5"
      ]
     },
     "execution_count": 66,
     "metadata": {},
     "output_type": "execute_result"
    }
   ],
   "source": [
    "Thanksgivings[\"Weekly_Sales\"].sum()"
   ]
  },
  {
   "cell_type": "markdown",
   "id": "3b289ca5",
   "metadata": {},
   "source": [
    "Conclusion\n",
    "\n",
    "1. Holidays which have higher sales is Thanksgivings\n",
    "2. Total weekly sales of thanksgiving holidays is 132414608.5\n",
    "3. Total sales in Labour day is 46763227.5\n",
    "4. Total sales in christmas holidays is 40432519.0"
   ]
  },
  {
   "cell_type": "markdown",
   "id": "9ff79d32",
   "metadata": {},
   "source": [
    "1. 5 Provide a monthly and semester view of sales in units and give insights"
   ]
  },
  {
   "cell_type": "code",
   "execution_count": 68,
   "id": "a177e2cb",
   "metadata": {},
   "outputs": [],
   "source": [
    "data[\"Year\"]= pd.DatetimeIndex(data['Date']).year\n",
    "data[\"Month\"]= pd.DatetimeIndex(data['Date']).month"
   ]
  },
  {
   "cell_type": "code",
   "execution_count": 71,
   "id": "2e846f89",
   "metadata": {},
   "outputs": [],
   "source": [
    "year_2010=data.loc[data[\"Year\"]==2010]\n",
    "year_2011=data.loc[data[\"Year\"]==2011]\n",
    "year_2012=data.loc[data[\"Year\"]==2012]"
   ]
  },
  {
   "cell_type": "code",
   "execution_count": 76,
   "id": "4b3b3b58",
   "metadata": {},
   "outputs": [
    {
     "data": {
      "text/plain": [
       "Text(0.5, 1.0, 'Monthly view of sales in 2010')"
      ]
     },
     "execution_count": 76,
     "metadata": {},
     "output_type": "execute_result"
    },
    {
     "data": {
      "image/png": "[encoded data removed]",
      "text/plain": [
       "<Figure size 720x432 with 1 Axes>"
      ]
     },
     "metadata": {
      "needs_background": "light"
     },
     "output_type": "display_data"
    }
   ],
   "source": [
    "# Monthly view of sales in 2010\n",
    "\n",
    "plt.figure(figsize=(10,6))\n",
    "plt.bar(year_2010[\"Month\"],year_2010[\"Weekly_Sales\"])\n",
    "plt.xlabel(\"months\")\n",
    "plt.ylabel(\"Weekly Sales\")\n",
    "plt.title(\"Monthly view of sales in 2010\")"
   ]
  },
  {
   "cell_type": "code",
   "execution_count": 77,
   "id": "742550fe",
   "metadata": {},
   "outputs": [
    {
     "data": {
      "text/plain": [
       "Text(0.5, 1.0, 'Monthly view of sales in 2011')"
      ]
     },
     "execution_count": 77,
     "metadata": {},
     "output_type": "execute_result"
    },
    {
     "data": {
      "image/png": "[encoded data removed]",
      "text/plain": [
       "<Figure size 720x432 with 1 Axes>"
      ]
     },
     "metadata": {
      "needs_background": "light"
     },
     "output_type": "display_data"
    }
   ],
   "source": [
    "# Monthly view of sales in 2011\n",
    "plt.figure(figsize=(10,6))\n",
    "plt.bar(year_2011[\"Month\"],year_2011[\"Weekly_Sales\"])\n",
    "plt.xlabel(\"months\")\n",
    "plt.ylabel(\"Weekly Sales\")\n",
    "plt.title(\"Monthly view of sales in 2011\")"
   ]
  },
  {
   "cell_type": "code",
   "execution_count": 78,
   "id": "6f3eb19f",
   "metadata": {},
   "outputs": [
    {
     "data": {
      "text/plain": [
       "Text(0.5, 1.0, 'Monthly view of sales in 2012')"
      ]
     },
     "execution_count": 78,
     "metadata": {},
     "output_type": "execute_result"
    },
    {
     "data": {
      "image/png": "[encoded data removed]",
      "text/plain": [
       "<Figure size 720x432 with 1 Axes>"
      ]
     },
     "metadata": {
      "needs_background": "light"
     },
     "output_type": "display_data"
    }
   ],
   "source": [
    "# Monthly view of sales in 2012\n",
    "\n",
    "plt.figure(figsize=(10,6))\n",
    "plt.bar(year_2012[\"Month\"],year_2012[\"Weekly_Sales\"])\n",
    "plt.xlabel(\"months\")\n",
    "plt.ylabel(\"Weekly Sales\")\n",
    "plt.title(\"Monthly view of sales in 2012\")"
   ]
  },
  {
   "cell_type": "code",
   "execution_count": 82,
   "id": "1882f30a",
   "metadata": {},
   "outputs": [
    {
     "data": {
      "text/plain": [
       "Text(0.5, 1.0, 'Monthly view of sales')"
      ]
     },
     "execution_count": 82,
     "metadata": {},
     "output_type": "execute_result"
    },
    {
     "data": {
      "image/png": "[encoded data removed]",
      "text/plain": [
       "<Figure size 864x576 with 1 Axes>"
      ]
     },
     "metadata": {
      "needs_background": "light"
     },
     "output_type": "display_data"
    }
   ],
   "source": [
    "# All months view of sales\n",
    "\n",
    "plt.figure(figsize=(12,8))\n",
    "plt.bar(data[\"Month\"],data[\"Weekly_Sales\"])\n",
    "plt.xlabel(\"months\")\n",
    "plt.ylabel(\"Weekly Sales\")\n",
    "plt.title(\"Monthly view of sales\")"
   ]
  },
  {
   "cell_type": "code",
   "execution_count": 83,
   "id": "ba73978e",
   "metadata": {},
   "outputs": [],
   "source": [
    "# Semesterwise sale \n",
    "semester_sales=[]\n",
    "semester_sales.append(year_2010.loc[year_2010[\"Month\"]<7,[\"Weekly_Sales\"]].sum())\n",
    "semester_sales.append(year_2010.loc[year_2010[\"Month\"]>6,[\"Weekly_Sales\"]].sum())\n",
    "semester_sales.append(year_2011.loc[year_2011[\"Month\"]<7,[\"Weekly_Sales\"]].sum())\n",
    "semester_sales.append(year_2011.loc[year_2011[\"Month\"]>6,[\"Weekly_Sales\"]].sum())\n",
    "semester_sales.append(year_2012.loc[year_2012[\"Month\"]<7,[\"Weekly_Sales\"]].sum())\n",
    "semester_sales.append(year_2012.loc[year_2012[\"Month\"]>6,[\"Weekly_Sales\"]].sum())"
   ]
  },
  {
   "cell_type": "code",
   "execution_count": 84,
   "id": "e37c2b48",
   "metadata": {},
   "outputs": [],
   "source": [
    "semester_names=[\"sem1_2010\",\"sem2_2010\",\"sem1_2011\",\"sem2_2011\",\"sem1_2012\",\"sem2_2012\"]"
   ]
  },
  {
   "cell_type": "code",
   "execution_count": 85,
   "id": "23678f59",
   "metadata": {},
   "outputs": [
    {
     "data": {
      "text/plain": [
       "Text(0.5, 1.0, 'Semester view of sales')"
      ]
     },
     "execution_count": 85,
     "metadata": {},
     "output_type": "execute_result"
    },
    {
     "data": {
      "image/png": "[encoded data removed]",
      "text/plain": [
       "<Figure size 720x432 with 1 Axes>"
      ]
     },
     "metadata": {
      "needs_background": "light"
     },
     "output_type": "display_data"
    }
   ],
   "source": [
    "plt.figure(figsize=(10,6))\n",
    "plt.plot(semester_names,semester_sales)\n",
    "plt.xlabel(\"Semesters\")\n",
    "plt.ylabel(\"Semester Sales\")\n",
    "plt.title(\"Semester view of sales\")"
   ]
  },
  {
   "cell_type": "markdown",
   "id": "708a20d2",
   "metadata": {},
   "source": [
    "2. Statistical Model\n",
    "For Store 1 – Build  prediction models to forecast demand\n",
    "2. 1 Linear Regression – Utilize variables like date and restructure dates as 1 for 5 Feb 2010 (starting from the earliest date in order). Hypothesize if CPI, unemployment, and fuel price have any impact on sales."
   ]
  },
  {
   "cell_type": "code",
   "execution_count": 86,
   "id": "b7c56e9e",
   "metadata": {},
   "outputs": [],
   "source": [
    "x=data.drop([\"Weekly_Sales\",\"Date\"],axis=1)\n",
    "y=data[\"Weekly_Sales\"]"
   ]
  },
  {
   "cell_type": "code",
   "execution_count": 87,
   "id": "0654e93e",
   "metadata": {},
   "outputs": [],
   "source": [
    "linreg=LinearRegression(n_jobs=-1)"
   ]
  },
  {
   "cell_type": "code",
   "execution_count": 97,
   "id": "358d7565",
   "metadata": {},
   "outputs": [],
   "source": [
    "xtrain,xtest,ytrain,ytest=model_selection.train_test_split(x,y,test_size=0.4,random_state=42)"
   ]
  },
  {
   "cell_type": "code",
   "execution_count": 98,
   "id": "79194a81",
   "metadata": {},
   "outputs": [
    {
     "data": {
      "text/plain": [
       "LinearRegression(n_jobs=-1)"
      ]
     },
     "execution_count": 98,
     "metadata": {},
     "output_type": "execute_result"
    }
   ],
   "source": [
    "linreg.fit(xtrain,ytrain)"
   ]
  },
  {
   "cell_type": "code",
   "execution_count": 99,
   "id": "e2383eaf",
   "metadata": {},
   "outputs": [
    {
     "data": {
      "text/plain": [
       "84171361.04320985"
      ]
     },
     "execution_count": 99,
     "metadata": {},
     "output_type": "execute_result"
    }
   ],
   "source": [
    "linreg.intercept_"
   ]
  },
  {
   "cell_type": "code",
   "execution_count": 100,
   "id": "74923024",
   "metadata": {},
   "outputs": [
    {
     "data": {
      "text/plain": [
       "array([-15076.05743532,  14940.56392359,   -744.77138548,  49882.84830669,\n",
       "        -2178.75498529, -26725.92004156,  -1452.88018785,  11680.40062841,\n",
       "       -40959.56523516])"
      ]
     },
     "execution_count": 100,
     "metadata": {},
     "output_type": "execute_result"
    }
   ],
   "source": [
    "linreg.coef_"
   ]
  },
  {
   "cell_type": "code",
   "execution_count": 101,
   "id": "056d7a6a",
   "metadata": {},
   "outputs": [
    {
     "data": {
      "text/plain": [
       "Index(['Store', 'Holiday_Flag', 'Temperature', 'Fuel_Price', 'CPI',\n",
       "       'Unemployment', 'Day', 'Month', 'Year'],\n",
       "      dtype='object')"
      ]
     },
     "execution_count": 101,
     "metadata": {},
     "output_type": "execute_result"
    }
   ],
   "source": [
    "x.columns"
   ]
  },
  {
   "cell_type": "code",
   "execution_count": 102,
   "id": "8f3913a0",
   "metadata": {},
   "outputs": [],
   "source": [
    "features=['Store', 'Holiday_Flag', 'Temperature', 'Fuel_Price', 'CPI', 'Unemployment', 'Year', 'Month'],"
   ]
  },
  {
   "cell_type": "code",
   "execution_count": 103,
   "id": "a9b7ea6c",
   "metadata": {},
   "outputs": [
    {
     "data": {
      "text/plain": [
       "<AxesSubplot:>"
      ]
     },
     "execution_count": 103,
     "metadata": {},
     "output_type": "execute_result"
    },
    {
     "data": {
      "image/png": "[encoded data removed]",
      "text/plain": [
       "<Figure size 432x288 with 1 Axes>"
      ]
     },
     "metadata": {
      "needs_background": "light"
     },
     "output_type": "display_data"
    }
   ],
   "source": [
    "relation=pd.Series(linreg.coef_,x.columns).sort_values()\n",
    "relation.plot(kind=\"bar\")"
   ]
  },
  {
   "cell_type": "code",
   "execution_count": 104,
   "id": "15aab418",
   "metadata": {},
   "outputs": [
    {
     "data": {
      "text/plain": [
       "0.14950449647465935"
      ]
     },
     "execution_count": 104,
     "metadata": {},
     "output_type": "execute_result"
    }
   ],
   "source": [
    "linreg.score(xtest,ytest)"
   ]
  },
  {
   "cell_type": "code",
   "execution_count": 106,
   "id": "244c3263",
   "metadata": {},
   "outputs": [
    {
     "data": {
      "text/plain": [
       "522476.3098596038"
      ]
     },
     "execution_count": 106,
     "metadata": {},
     "output_type": "execute_result"
    }
   ],
   "source": [
    "sqrt(mean_squared_error(ytrain,linreg.predict(xtrain)))"
   ]
  },
  {
   "cell_type": "code",
   "execution_count": 107,
   "id": "0b3002e0",
   "metadata": {},
   "outputs": [
    {
     "data": {
      "text/plain": [
       "270207867997.983"
      ]
     },
     "execution_count": 107,
     "metadata": {},
     "output_type": "execute_result"
    }
   ],
   "source": [
    "mean_squared_error(ytest,linreg.predict(xtest))"
   ]
  },
  {
   "cell_type": "code",
   "execution_count": 110,
   "id": "b693e6c2",
   "metadata": {},
   "outputs": [
    {
     "data": {
      "text/plain": [
       "Text(0, 0.5, 'Weekly Sales')"
      ]
     },
     "execution_count": 110,
     "metadata": {},
     "output_type": "execute_result"
    },
    {
     "data": {
      "image/png": "[encoded data removed]",
      "text/plain": [
       "<Figure size 576x432 with 1 Axes>"
      ]
     },
     "metadata": {
      "needs_background": "light"
     },
     "output_type": "display_data"
    }
   ],
   "source": [
    "#Relation Between CPI and weekly sales\n",
    "\n",
    "plt.figure(figsize=(8,6))\n",
    "plt.scatter(data[\"CPI\"],data[\"Weekly_Sales\"])\n",
    "plt.title(\"Relation Between CPI and weekly sales\")\n",
    "plt.xlabel(\"CPI\")\n",
    "plt.ylabel(\"Weekly Sales\")"
   ]
  },
  {
   "cell_type": "code",
   "execution_count": 112,
   "id": "58c954c4",
   "metadata": {},
   "outputs": [
    {
     "data": {
      "text/plain": [
       "Text(0, 0.5, 'Weekly Sales')"
      ]
     },
     "execution_count": 112,
     "metadata": {},
     "output_type": "execute_result"
    },
    {
     "data": {
      "image/png": "[encoded data removed]",
      "text/plain": [
       "<Figure size 576x432 with 1 Axes>"
      ]
     },
     "metadata": {
      "needs_background": "light"
     },
     "output_type": "display_data"
    }
   ],
   "source": [
    "#Relation Between Unemployment and weekly sales\n",
    "\n",
    "plt.figure(figsize=(8,6))\n",
    "plt.scatter(data[\"Unemployment\"],data[\"Weekly_Sales\"])\n",
    "plt.title(\"Relation Between Unemployment and weekly sales\")\n",
    "plt.xlabel(\"Unemployment\")\n",
    "plt.ylabel(\"Weekly Sales\")"
   ]
  },
  {
   "cell_type": "code",
   "execution_count": 114,
   "id": "1dee8309",
   "metadata": {},
   "outputs": [
    {
     "data": {
      "text/plain": [
       "Text(0, 0.5, 'Weekly Sales')"
      ]
     },
     "execution_count": 114,
     "metadata": {},
     "output_type": "execute_result"
    },
    {
     "data": {
      "image/png": "[encoded data removed]",
      "text/plain": [
       "<Figure size 576x432 with 1 Axes>"
      ]
     },
     "metadata": {
      "needs_background": "light"
     },
     "output_type": "display_data"
    }
   ],
   "source": [
    "#Relation Between Fuel Price and weekly sales\n",
    "plt.figure(figsize=(8,6))\n",
    "plt.scatter(data[\"Fuel_Price\"],data[\"Weekly_Sales\"])\n",
    "plt.title(\"Relation Between Fuel Price and weekly sales\")\n",
    "plt.xlabel(\"Fuel_Price\")\n",
    "plt.ylabel(\"Weekly Sales\")"
   ]
  },
  {
   "cell_type": "markdown",
   "id": "a7c94ce3",
   "metadata": {},
   "source": [
    "2. 2 Change dates into days by creating new variable."
   ]
  },
  {
   "cell_type": "code",
   "execution_count": 115,
   "id": "3dfa0ceb",
   "metadata": {},
   "outputs": [],
   "source": [
    "data['days'] = data['Date'].dt.day_name()"
   ]
  },
  {
   "cell_type": "code",
   "execution_count": 116,
   "id": "959f6b02",
   "metadata": {},
   "outputs": [
    {
     "data": {
      "text/html": [
       "<div>\n",
       "<style scoped>\n",
       "    .dataframe tbody tr th:only-of-type {\n",
       "        vertical-align: middle;\n",
       "    }\n",
       "\n",
       "    .dataframe tbody tr th {\n",
       "        vertical-align: top;\n",
       "    }\n",
       "\n",
       "    .dataframe thead th {\n",
       "        text-align: right;\n",
       "    }\n",
       "</style>\n",
       "<table border=\"1\" class=\"dataframe\">\n",
       "  <thead>\n",
       "    <tr style=\"text-align: right;\">\n",
       "      <th></th>\n",
       "      <th>Store</th>\n",
       "      <th>Date</th>\n",
       "      <th>Weekly_Sales</th>\n",
       "      <th>Holiday_Flag</th>\n",
       "      <th>Temperature</th>\n",
       "      <th>Fuel_Price</th>\n",
       "      <th>CPI</th>\n",
       "      <th>Unemployment</th>\n",
       "      <th>Day</th>\n",
       "      <th>Month</th>\n",
       "      <th>Year</th>\n",
       "      <th>days</th>\n",
       "    </tr>\n",
       "  </thead>\n",
       "  <tbody>\n",
       "    <tr>\n",
       "      <th>0</th>\n",
       "      <td>1</td>\n",
       "      <td>2010-05-02</td>\n",
       "      <td>1643690.90</td>\n",
       "      <td>0</td>\n",
       "      <td>42.31</td>\n",
       "      <td>2.572</td>\n",
       "      <td>211.096358</td>\n",
       "      <td>8.106</td>\n",
       "      <td>2</td>\n",
       "      <td>5</td>\n",
       "      <td>2010</td>\n",
       "      <td>Sunday</td>\n",
       "    </tr>\n",
       "    <tr>\n",
       "      <th>1</th>\n",
       "      <td>1</td>\n",
       "      <td>2010-12-02</td>\n",
       "      <td>1641957.44</td>\n",
       "      <td>1</td>\n",
       "      <td>38.51</td>\n",
       "      <td>2.548</td>\n",
       "      <td>211.242170</td>\n",
       "      <td>8.106</td>\n",
       "      <td>2</td>\n",
       "      <td>12</td>\n",
       "      <td>2010</td>\n",
       "      <td>Thursday</td>\n",
       "    </tr>\n",
       "    <tr>\n",
       "      <th>2</th>\n",
       "      <td>1</td>\n",
       "      <td>2010-02-19</td>\n",
       "      <td>1611968.17</td>\n",
       "      <td>0</td>\n",
       "      <td>39.93</td>\n",
       "      <td>2.514</td>\n",
       "      <td>211.289143</td>\n",
       "      <td>8.106</td>\n",
       "      <td>19</td>\n",
       "      <td>2</td>\n",
       "      <td>2010</td>\n",
       "      <td>Friday</td>\n",
       "    </tr>\n",
       "    <tr>\n",
       "      <th>3</th>\n",
       "      <td>1</td>\n",
       "      <td>2010-02-26</td>\n",
       "      <td>1409727.59</td>\n",
       "      <td>0</td>\n",
       "      <td>46.63</td>\n",
       "      <td>2.561</td>\n",
       "      <td>211.319643</td>\n",
       "      <td>8.106</td>\n",
       "      <td>26</td>\n",
       "      <td>2</td>\n",
       "      <td>2010</td>\n",
       "      <td>Friday</td>\n",
       "    </tr>\n",
       "    <tr>\n",
       "      <th>4</th>\n",
       "      <td>1</td>\n",
       "      <td>2010-05-03</td>\n",
       "      <td>1554806.68</td>\n",
       "      <td>0</td>\n",
       "      <td>46.50</td>\n",
       "      <td>2.625</td>\n",
       "      <td>211.350143</td>\n",
       "      <td>8.106</td>\n",
       "      <td>3</td>\n",
       "      <td>5</td>\n",
       "      <td>2010</td>\n",
       "      <td>Monday</td>\n",
       "    </tr>\n",
       "    <tr>\n",
       "      <th>...</th>\n",
       "      <td>...</td>\n",
       "      <td>...</td>\n",
       "      <td>...</td>\n",
       "      <td>...</td>\n",
       "      <td>...</td>\n",
       "      <td>...</td>\n",
       "      <td>...</td>\n",
       "      <td>...</td>\n",
       "      <td>...</td>\n",
       "      <td>...</td>\n",
       "      <td>...</td>\n",
       "      <td>...</td>\n",
       "    </tr>\n",
       "    <tr>\n",
       "      <th>6430</th>\n",
       "      <td>45</td>\n",
       "      <td>2012-09-28</td>\n",
       "      <td>713173.95</td>\n",
       "      <td>0</td>\n",
       "      <td>64.88</td>\n",
       "      <td>3.997</td>\n",
       "      <td>192.013558</td>\n",
       "      <td>8.684</td>\n",
       "      <td>28</td>\n",
       "      <td>9</td>\n",
       "      <td>2012</td>\n",
       "      <td>Friday</td>\n",
       "    </tr>\n",
       "    <tr>\n",
       "      <th>6431</th>\n",
       "      <td>45</td>\n",
       "      <td>2012-05-10</td>\n",
       "      <td>733455.07</td>\n",
       "      <td>0</td>\n",
       "      <td>64.89</td>\n",
       "      <td>3.985</td>\n",
       "      <td>192.170412</td>\n",
       "      <td>8.667</td>\n",
       "      <td>10</td>\n",
       "      <td>5</td>\n",
       "      <td>2012</td>\n",
       "      <td>Thursday</td>\n",
       "    </tr>\n",
       "    <tr>\n",
       "      <th>6432</th>\n",
       "      <td>45</td>\n",
       "      <td>2012-12-10</td>\n",
       "      <td>734464.36</td>\n",
       "      <td>0</td>\n",
       "      <td>54.47</td>\n",
       "      <td>4.000</td>\n",
       "      <td>192.327265</td>\n",
       "      <td>8.667</td>\n",
       "      <td>10</td>\n",
       "      <td>12</td>\n",
       "      <td>2012</td>\n",
       "      <td>Monday</td>\n",
       "    </tr>\n",
       "    <tr>\n",
       "      <th>6433</th>\n",
       "      <td>45</td>\n",
       "      <td>2012-10-19</td>\n",
       "      <td>718125.53</td>\n",
       "      <td>0</td>\n",
       "      <td>56.47</td>\n",
       "      <td>3.969</td>\n",
       "      <td>192.330854</td>\n",
       "      <td>8.667</td>\n",
       "      <td>19</td>\n",
       "      <td>10</td>\n",
       "      <td>2012</td>\n",
       "      <td>Friday</td>\n",
       "    </tr>\n",
       "    <tr>\n",
       "      <th>6434</th>\n",
       "      <td>45</td>\n",
       "      <td>2012-10-26</td>\n",
       "      <td>760281.43</td>\n",
       "      <td>0</td>\n",
       "      <td>58.85</td>\n",
       "      <td>3.882</td>\n",
       "      <td>192.308899</td>\n",
       "      <td>8.667</td>\n",
       "      <td>26</td>\n",
       "      <td>10</td>\n",
       "      <td>2012</td>\n",
       "      <td>Friday</td>\n",
       "    </tr>\n",
       "  </tbody>\n",
       "</table>\n",
       "<p>6435 rows × 12 columns</p>\n",
       "</div>"
      ],
      "text/plain": [
       "      Store       Date  Weekly_Sales  Holiday_Flag  Temperature  Fuel_Price  \\\n",
       "0         1 2010-05-02    1643690.90             0        42.31       2.572   \n",
       "1         1 2010-12-02    1641957.44             1        38.51       2.548   \n",
       "2         1 2010-02-19    1611968.17             0        39.93       2.514   \n",
       "3         1 2010-02-26    1409727.59             0        46.63       2.561   \n",
       "4         1 2010-05-03    1554806.68             0        46.50       2.625   \n",
       "...     ...        ...           ...           ...          ...         ...   \n",
       "6430     45 2012-09-28     713173.95             0        64.88       3.997   \n",
       "6431     45 2012-05-10     733455.07             0        64.89       3.985   \n",
       "6432     45 2012-12-10     734464.36             0        54.47       4.000   \n",
       "6433     45 2012-10-19     718125.53             0        56.47       3.969   \n",
       "6434     45 2012-10-26     760281.43             0        58.85       3.882   \n",
       "\n",
       "             CPI  Unemployment  Day  Month  Year      days  \n",
       "0     211.096358         8.106    2      5  2010    Sunday  \n",
       "1     211.242170         8.106    2     12  2010  Thursday  \n",
       "2     211.289143         8.106   19      2  2010    Friday  \n",
       "3     211.319643         8.106   26      2  2010    Friday  \n",
       "4     211.350143         8.106    3      5  2010    Monday  \n",
       "...          ...           ...  ...    ...   ...       ...  \n",
       "6430  192.013558         8.684   28      9  2012    Friday  \n",
       "6431  192.170412         8.667   10      5  2012  Thursday  \n",
       "6432  192.327265         8.667   10     12  2012    Monday  \n",
       "6433  192.330854         8.667   19     10  2012    Friday  \n",
       "6434  192.308899         8.667   26     10  2012    Friday  \n",
       "\n",
       "[6435 rows x 12 columns]"
      ]
     },
     "execution_count": 116,
     "metadata": {},
     "output_type": "execute_result"
    }
   ],
   "source": [
    "data"
   ]
  }
 ],
 "metadata": {
  "kernelspec": {
   "display_name": "Python 3 (ipykernel)",
   "language": "python",
   "name": "python3"
  },
  "language_info": {
   "codemirror_mode": {
    "name": "ipython",
    "version": 3
   },
   "file_extension": ".py",
   "mimetype": "text/x-python",
   "name": "python",
   "nbconvert_exporter": "python",
   "pygments_lexer": "ipython3",
   "version": "3.9.12"
  }
 },
 "nbformat": 4,
 "nbformat_minor": 5
}
